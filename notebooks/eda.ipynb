{
 "cells": [
  {
   "cell_type": "code",
   "execution_count": null,
   "metadata": {},
   "outputs": [
    {
     "ename": "",
     "evalue": "",
     "output_type": "error",
     "traceback": [
      "\u001b[1;31mRunning cells with 'Python 3.12.3' requires the ipykernel package.\n",
      "\u001b[1;31mRun the following command to install 'ipykernel' into the Python environment. \n",
      "\u001b[1;31mCommand: '/bin/python3.12 -m pip install ipykernel -U --user --force-reinstall'"
     ]
    }
   ],
   "source": [
    "!pip install pandas matplotlib seaborn scipy\n",
    "import pandas as pd\n",
    "import numpy as np\n",
    "import matplotlib.pyplot as plt\n",
    "import seaborn as sns\n",
    "from scipy.stats import zscore\n",
    "\n",
    "# Load dataset\n",
    "data = pd.read_csv('./data/solar_data.csv', parse_dates=['Timestamp'])\n",
    "\n",
    "# Summary Statistics\n",
    "summary_stats = data.describe()\n",
    "\n",
    "# Data Quality Check\n",
    "missing_values = data.isnull().sum()\n",
    "outliers = data.apply(lambda x: ((x - x.mean()) > 3 * x.std()).sum(), axis=0)\n",
    "\n",
    "# Time Series Analysis\n",
    "data['Month'] = data['Timestamp'].dt.month\n",
    "plt.figure(figsize=(10, 6))\n",
    "sns.lineplot(data=data, x='Month', y='GHI', label='GHI')\n",
    "sns.lineplot(data=data, x='Month', y='DNI', label='DNI')\n",
    "plt.legend()\n",
    "plt.title('Solar Irradiance Trends')\n",
    "plt.show()\n",
    "\n",
    "# Correlation Analysis\n",
    "correlation_matrix = data.corr()\n",
    "sns.heatmap(correlation_matrix, annot=True, cmap='coolwarm')\n",
    "plt.title('Correlation Heatmap')\n",
    "plt.show()\n",
    "\n",
    "# Wind Analysis\n",
    "sns.scatterplot(data=data, x='WS', y='WD', size='RH', hue='BP')\n",
    "plt.title('Wind Analysis')\n",
    "plt.show()\n",
    "\n",
    "# Z-Score Analysis\n",
    "data['Z_GHI'] = zscore(data['GHI'])\n",
    "z_outliers = data[np.abs(data['Z_GHI']) > 3]\n",
    "\n",
    "# Cleaned Data\n",
    "cleaned_data = data.dropna()\n",
    "cleaned_data.to_csv('cleaned_solar_data.csv', index=False)\n"
   ]
  }
 ],
 "metadata": {
  "kernelspec": {
   "display_name": "Python 3",
   "language": "python",
   "name": "python3"
  },
  "language_info": {
   "name": "python",
   "version": "3.12.3"
  }
 },
 "nbformat": 4,
 "nbformat_minor": 2
}
